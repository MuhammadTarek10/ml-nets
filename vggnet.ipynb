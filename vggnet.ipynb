{
 "cells": [
  {
   "cell_type": "code",
   "execution_count": 1,
   "metadata": {},
   "outputs": [],
   "source": [
    "from helper_functions import train, predict\n",
    "from dataset import train_cats_dogs, test_cats_dogs\n",
    "import torch\n",
    "from torch import nn, optim\n",
    "import torch.nn.functional as F"
   ]
  },
  {
   "cell_type": "code",
   "execution_count": 18,
   "metadata": {},
   "outputs": [
    {
     "name": "stdout",
     "output_type": "stream",
     "text": [
      "Image Shape: torch.Size([3, 224, 224])\n",
      "Prediction: tensor([[0.5042, 0.4958]])\n"
     ]
    }
   ],
   "source": [
    "class VGGNet(nn.Module):\n",
    "    def __init__(self, *args, **kwargs) -> None:\n",
    "        super().__init__(*args, **kwargs)\n",
    "        self.conv1_block = nn.Sequential(\n",
    "            nn.Conv2d(in_channels=3, out_channels=64, kernel_size=3, stride=1, padding='same'),\n",
    "            nn.ReLU(),\n",
    "            nn.Conv2d(in_channels=64, out_channels=64, kernel_size=3, stride=1, padding='same'),\n",
    "            nn.ReLU(),\n",
    "            nn.MaxPool2d(kernel_size=2),\n",
    "        )\n",
    "        self.conv2_block = nn.Sequential(\n",
    "            nn.Conv2d(in_channels=64, out_channels=128, kernel_size=3, stride=1, padding='same'),\n",
    "            nn.ReLU(),\n",
    "            nn.Conv2d(in_channels=128, out_channels=128, kernel_size=3, stride=1, padding='same'),\n",
    "            nn.ReLU(),\n",
    "            nn.MaxPool2d(kernel_size=2),\n",
    "        )\n",
    "        self.conv3_block = nn.Sequential(\n",
    "            nn.Conv2d(in_channels=128, out_channels=256, kernel_size=3, stride=1, padding='same'),\n",
    "            nn.ReLU(),\n",
    "            nn.Conv2d(in_channels=256, out_channels=256, kernel_size=3, stride=1, padding='same'),\n",
    "            nn.ReLU(),\n",
    "            nn.MaxPool2d(kernel_size=2),\n",
    "        )\n",
    "        self.conv4_block = nn.Sequential(\n",
    "            nn.Conv2d(in_channels=256, out_channels=512, kernel_size=3, stride=1, padding='same'),\n",
    "            nn.ReLU(),\n",
    "            nn.Conv2d(in_channels=512, out_channels=512, kernel_size=3, stride=1, padding='same'),\n",
    "            nn.ReLU(),\n",
    "            nn.Conv2d(in_channels=512, out_channels=512, kernel_size=3, stride=1, padding='same'),\n",
    "            nn.ReLU(),\n",
    "            nn.MaxPool2d(kernel_size=2),\n",
    "        )\n",
    "        self.conv5_block = nn.Sequential(\n",
    "            nn.Conv2d(in_channels=512, out_channels=512, kernel_size=3, stride=1, padding='same'),\n",
    "            nn.ReLU(),\n",
    "            nn.Conv2d(in_channels=512, out_channels=512, kernel_size=3, stride=1, padding='same'),\n",
    "            nn.ReLU(),\n",
    "            nn.Conv2d(in_channels=512, out_channels=512, kernel_size=3, stride=1, padding='same'),\n",
    "            nn.ReLU(),\n",
    "            nn.MaxPool2d(kernel_size=2),\n",
    "        )\n",
    "        self.classification_head = nn.Sequential(\n",
    "            nn.Linear(in_features=7*7*512, out_features=4096),\n",
    "            nn.ReLU(),\n",
    "            nn.Linear(in_features=4096, out_features=4096),\n",
    "            nn.ReLU(),\n",
    "            nn.Linear(in_features=4096, out_features=2),\n",
    "            nn.Softmax(dim=1)\n",
    "        )\n",
    "\n",
    "    def forward(self, x: torch.Tensor) -> torch.Tensor:\n",
    "        x = self.conv1_block(x)\n",
    "        x = self.conv2_block(x)\n",
    "        x = self.conv3_block(x)\n",
    "        x = self.conv4_block(x)\n",
    "        x = self.conv5_block(x)\n",
    "        x = x.unsqueeze(dim=0) if x.dim() != 4 else x\n",
    "        x = x.view(x.size(0), -1)\n",
    "        return self.classification_head(x)\n",
    "        \n",
    "\n",
    "image, labels = next(iter(test_cats_dogs))\n",
    "model = VGGNet()\n",
    "print(f\"Image Shape: {image.shape}\")\n",
    "print(f\"Prediction: {predict(model, image)}\")"
   ]
  },
  {
   "cell_type": "code",
   "execution_count": 19,
   "metadata": {},
   "outputs": [
    {
     "data": {
      "text/plain": [
       "============================================================================================================================================\n",
       "Layer (type (var_name))                  Input Shape               Output Shape              Param #                   Trainable\n",
       "============================================================================================================================================\n",
       "VGGNet (VGGNet)                          [3, 224, 224]             [1, 2]                    --                        True\n",
       "├─Sequential (conv1_block)               [3, 224, 224]             [64, 112, 112]            --                        True\n",
       "│    └─Conv2d (0)                        [3, 224, 224]             [64, 224, 224]            1,792                     True\n",
       "│    └─ReLU (1)                          [64, 224, 224]            [64, 224, 224]            --                        --\n",
       "│    └─Conv2d (2)                        [64, 224, 224]            [64, 224, 224]            36,928                    True\n",
       "│    └─ReLU (3)                          [64, 224, 224]            [64, 224, 224]            --                        --\n",
       "│    └─MaxPool2d (4)                     [64, 224, 224]            [64, 112, 112]            --                        --\n",
       "├─Sequential (conv2_block)               [64, 112, 112]            [128, 56, 56]             --                        True\n",
       "│    └─Conv2d (0)                        [64, 112, 112]            [128, 112, 112]           73,856                    True\n",
       "│    └─ReLU (1)                          [128, 112, 112]           [128, 112, 112]           --                        --\n",
       "│    └─Conv2d (2)                        [128, 112, 112]           [128, 112, 112]           147,584                   True\n",
       "│    └─ReLU (3)                          [128, 112, 112]           [128, 112, 112]           --                        --\n",
       "│    └─MaxPool2d (4)                     [128, 112, 112]           [128, 56, 56]             --                        --\n",
       "├─Sequential (conv3_block)               [128, 56, 56]             [256, 28, 28]             --                        True\n",
       "│    └─Conv2d (0)                        [128, 56, 56]             [256, 56, 56]             295,168                   True\n",
       "│    └─ReLU (1)                          [256, 56, 56]             [256, 56, 56]             --                        --\n",
       "│    └─Conv2d (2)                        [256, 56, 56]             [256, 56, 56]             590,080                   True\n",
       "│    └─ReLU (3)                          [256, 56, 56]             [256, 56, 56]             --                        --\n",
       "│    └─MaxPool2d (4)                     [256, 56, 56]             [256, 28, 28]             --                        --\n",
       "├─Sequential (conv4_block)               [256, 28, 28]             [512, 14, 14]             --                        True\n",
       "│    └─Conv2d (0)                        [256, 28, 28]             [512, 28, 28]             1,180,160                 True\n",
       "│    └─ReLU (1)                          [512, 28, 28]             [512, 28, 28]             --                        --\n",
       "│    └─Conv2d (2)                        [512, 28, 28]             [512, 28, 28]             2,359,808                 True\n",
       "│    └─ReLU (3)                          [512, 28, 28]             [512, 28, 28]             --                        --\n",
       "│    └─Conv2d (4)                        [512, 28, 28]             [512, 28, 28]             2,359,808                 True\n",
       "│    └─ReLU (5)                          [512, 28, 28]             [512, 28, 28]             --                        --\n",
       "│    └─MaxPool2d (6)                     [512, 28, 28]             [512, 14, 14]             --                        --\n",
       "├─Sequential (conv5_block)               [512, 14, 14]             [512, 7, 7]               --                        True\n",
       "│    └─Conv2d (0)                        [512, 14, 14]             [512, 14, 14]             2,359,808                 True\n",
       "│    └─ReLU (1)                          [512, 14, 14]             [512, 14, 14]             --                        --\n",
       "│    └─Conv2d (2)                        [512, 14, 14]             [512, 14, 14]             2,359,808                 True\n",
       "│    └─ReLU (3)                          [512, 14, 14]             [512, 14, 14]             --                        --\n",
       "│    └─Conv2d (4)                        [512, 14, 14]             [512, 14, 14]             2,359,808                 True\n",
       "│    └─ReLU (5)                          [512, 14, 14]             [512, 14, 14]             --                        --\n",
       "│    └─MaxPool2d (6)                     [512, 14, 14]             [512, 7, 7]               --                        --\n",
       "├─Sequential (classification_head)       [1, 25088]                [1, 2]                    --                        True\n",
       "│    └─Linear (0)                        [1, 25088]                [1, 4096]                 102,764,544               True\n",
       "│    └─ReLU (1)                          [1, 4096]                 [1, 4096]                 --                        --\n",
       "│    └─Linear (2)                        [1, 4096]                 [1, 4096]                 16,781,312                True\n",
       "│    └─ReLU (3)                          [1, 4096]                 [1, 4096]                 --                        --\n",
       "│    └─Linear (4)                        [1, 4096]                 [1, 2]                    8,194                     True\n",
       "│    └─Softmax (5)                       [1, 2]                    [1, 2]                    --                        --\n",
       "============================================================================================================================================\n",
       "Total params: 133,678,658\n",
       "Trainable params: 133,678,658\n",
       "Non-trainable params: 0\n",
       "Total mult-adds (Units.GIGABYTES): 151.86\n",
       "============================================================================================================================================\n",
       "Input size (MB): 0.60\n",
       "Forward/backward pass size (MB): 102.02\n",
       "Params size (MB): 534.71\n",
       "Estimated Total Size (MB): 637.34\n",
       "============================================================================================================================================"
      ]
     },
     "execution_count": 19,
     "metadata": {},
     "output_type": "execute_result"
    }
   ],
   "source": [
    "from torchinfo import summary\n",
    "\n",
    "summary(model, input_size=(3, 224, 224), col_names=[\"input_size\", \"output_size\", \"num_params\", \"trainable\"], row_settings=[\"var_names\"])"
   ]
  }
 ],
 "metadata": {
  "kernelspec": {
   "display_name": "venv",
   "language": "python",
   "name": "python3"
  },
  "language_info": {
   "codemirror_mode": {
    "name": "ipython",
    "version": 3
   },
   "file_extension": ".py",
   "mimetype": "text/x-python",
   "name": "python",
   "nbconvert_exporter": "python",
   "pygments_lexer": "ipython3",
   "version": "3.11.5"
  },
  "orig_nbformat": 4
 },
 "nbformat": 4,
 "nbformat_minor": 2
}
