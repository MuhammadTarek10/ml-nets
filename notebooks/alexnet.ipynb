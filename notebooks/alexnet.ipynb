{
 "cells": [
  {
   "cell_type": "code",
   "execution_count": 1,
   "metadata": {},
   "outputs": [],
   "source": [
    "from helper_functions import train, predict\n",
    "from dataset import train_cats_dogs, test_cats_dogs\n",
    "import torch\n",
    "from torch import nn, optim\n",
    "import torch.nn.functional as F"
   ]
  },
  {
   "cell_type": "code",
   "execution_count": 27,
   "metadata": {},
   "outputs": [
    {
     "name": "stdout",
     "output_type": "stream",
     "text": [
      "Image Shape: torch.Size([3, 227, 227])\n",
      "Prediction: tensor([[0.5008, 0.4992]])\n"
     ]
    }
   ],
   "source": [
    "class AlexNet(nn.Module):\n",
    "    def __init__(self):\n",
    "        super(AlexNet, self).__init__()\n",
    "        self.conv_block = nn.Sequential(\n",
    "            nn.Conv2d(in_channels=3, out_channels=96, kernel_size=11, stride=4),\n",
    "            nn.ReLU(),\n",
    "            nn.MaxPool2d(kernel_size=3, stride=2),\n",
    "            nn.Conv2d(in_channels=96, out_channels=256, kernel_size=5, padding=2),\n",
    "            nn.ReLU(),\n",
    "            nn.MaxPool2d(kernel_size=3, stride=2),\n",
    "            nn.Conv2d(in_channels=256, out_channels=384, kernel_size=3, padding=1),\n",
    "            nn.ReLU(),\n",
    "            nn.Conv2d(in_channels=384, out_channels=384, kernel_size=3, padding=1),\n",
    "            nn.ReLU(),\n",
    "            nn.Conv2d(in_channels=384, out_channels=256, kernel_size=3, padding=1),\n",
    "            nn.ReLU(),\n",
    "            nn.MaxPool2d(kernel_size=3, stride=2),\n",
    "        )\n",
    "        self.classification_head = nn.Sequential(\n",
    "            nn.Linear(in_features=9216, out_features=4096),\n",
    "            nn.ReLU(),\n",
    "            nn.Linear(in_features=4096, out_features=4096),\n",
    "            nn.ReLU(),\n",
    "            nn.Linear(in_features=4096, out_features=2),\n",
    "            nn.Softmax(dim=1)\n",
    "        )\n",
    "\n",
    "    def forward(self, x: torch.Tensor):\n",
    "        x = self.conv_block(x)\n",
    "        x = x.unsqueeze(dim=0) if x.dim() != 4 else x\n",
    "        x = x.view(x.size(0), -1)\n",
    "        return self.classification_head(x)\n",
    "\n",
    "image, labels = next(iter(test_cats_dogs))\n",
    "model = AlexNet()\n",
    "print(f\"Image Shape: {image.shape}\")\n",
    "print(f\"Prediction: {predict(model, image)}\")"
   ]
  },
  {
   "cell_type": "code",
   "execution_count": 29,
   "metadata": {},
   "outputs": [
    {
     "data": {
      "text/plain": [
       "============================================================================================================================================\n",
       "Layer (type (var_name))                  Input Shape               Output Shape              Param #                   Trainable\n",
       "============================================================================================================================================\n",
       "AlexNet (AlexNet)                        [3, 227, 227]             [1, 2]                    --                        True\n",
       "├─Sequential (conv_block)                [3, 227, 227]             [256, 6, 6]               --                        True\n",
       "│    └─Conv2d (0)                        [3, 227, 227]             [96, 55, 55]              34,944                    True\n",
       "│    └─ReLU (1)                          [96, 55, 55]              [96, 55, 55]              --                        --\n",
       "│    └─MaxPool2d (2)                     [96, 55, 55]              [96, 27, 27]              --                        --\n",
       "│    └─Conv2d (3)                        [96, 27, 27]              [256, 27, 27]             614,656                   True\n",
       "│    └─ReLU (4)                          [256, 27, 27]             [256, 27, 27]             --                        --\n",
       "│    └─MaxPool2d (5)                     [256, 27, 27]             [256, 13, 13]             --                        --\n",
       "│    └─Conv2d (6)                        [256, 13, 13]             [384, 13, 13]             885,120                   True\n",
       "│    └─ReLU (7)                          [384, 13, 13]             [384, 13, 13]             --                        --\n",
       "│    └─Conv2d (8)                        [384, 13, 13]             [384, 13, 13]             1,327,488                 True\n",
       "│    └─ReLU (9)                          [384, 13, 13]             [384, 13, 13]             --                        --\n",
       "│    └─Conv2d (10)                       [384, 13, 13]             [256, 13, 13]             884,992                   True\n",
       "│    └─ReLU (11)                         [256, 13, 13]             [256, 13, 13]             --                        --\n",
       "│    └─MaxPool2d (12)                    [256, 13, 13]             [256, 6, 6]               --                        --\n",
       "├─Sequential (classification_head)       [1, 9216]                 [1, 2]                    --                        True\n",
       "│    └─Linear (0)                        [1, 9216]                 [1, 4096]                 37,752,832                True\n",
       "│    └─ReLU (1)                          [1, 4096]                 [1, 4096]                 --                        --\n",
       "│    └─Linear (2)                        [1, 4096]                 [1, 4096]                 16,781,312                True\n",
       "│    └─ReLU (3)                          [1, 4096]                 [1, 4096]                 --                        --\n",
       "│    └─Linear (4)                        [1, 4096]                 [1, 2]                    8,194                     True\n",
       "│    └─Softmax (5)                       [1, 2]                    [1, 2]                    --                        --\n",
       "============================================================================================================================================\n",
       "Total params: 58,289,538\n",
       "Trainable params: 58,289,538\n",
       "Non-trainable params: 0\n",
       "Total mult-adds (Units.GIGABYTES): 18.48\n",
       "============================================================================================================================================\n",
       "Input size (MB): 0.62\n",
       "Forward/backward pass size (MB): 5.27\n",
       "Params size (MB): 233.16\n",
       "Estimated Total Size (MB): 239.04\n",
       "============================================================================================================================================"
      ]
     },
     "execution_count": 29,
     "metadata": {},
     "output_type": "execute_result"
    }
   ],
   "source": [
    "from torchinfo import summary\n",
    "\n",
    "summary(model, input_size=(3, 227, 227), col_names=[\"input_size\", \"output_size\", \"num_params\", \"trainable\"], row_settings=[\"var_names\"])"
   ]
  }
 ],
 "metadata": {
  "kernelspec": {
   "display_name": "venv",
   "language": "python",
   "name": "python3"
  },
  "language_info": {
   "codemirror_mode": {
    "name": "ipython",
    "version": 3
   },
   "file_extension": ".py",
   "mimetype": "text/x-python",
   "name": "python",
   "nbconvert_exporter": "python",
   "pygments_lexer": "ipython3",
   "version": "3.11.5"
  },
  "orig_nbformat": 4
 },
 "nbformat": 4,
 "nbformat_minor": 2
}
